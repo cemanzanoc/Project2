{
 "cells": [
  {
   "cell_type": "code",
   "execution_count": 49,
   "id": "3065887d-ffdf-4617-b049-f4d65bf14297",
   "metadata": {},
   "outputs": [],
   "source": [
    "import pandas as pd\n",
    "from statsmodels.stats.proportion import proportions_ztest\n",
    "import numpy as np\n",
    "import scipy.stats as st\n",
    "import scipy.stats as stats"
   ]
  },
  {
   "cell_type": "code",
   "execution_count": 45,
   "id": "88872dc5-cf61-4095-bdb0-9efb02fbb04c",
   "metadata": {},
   "outputs": [],
   "source": [
    "import aux_functions"
   ]
  },
  {
   "cell_type": "code",
   "execution_count": 121,
   "id": "cda6db20-2c38-4b7b-9767-ca653feb45de",
   "metadata": {},
   "outputs": [
    {
     "data": {
      "text/html": [
       "<div>\n",
       "<style scoped>\n",
       "    .dataframe tbody tr th:only-of-type {\n",
       "        vertical-align: middle;\n",
       "    }\n",
       "\n",
       "    .dataframe tbody tr th {\n",
       "        vertical-align: top;\n",
       "    }\n",
       "\n",
       "    .dataframe thead th {\n",
       "        text-align: right;\n",
       "    }\n",
       "</style>\n",
       "<table border=\"1\" class=\"dataframe\">\n",
       "  <thead>\n",
       "    <tr style=\"text-align: right;\">\n",
       "      <th></th>\n",
       "      <th>Unnamed: 0</th>\n",
       "      <th>client_id</th>\n",
       "      <th>clnt_tenure_yr</th>\n",
       "      <th>clnt_tenure_mnth</th>\n",
       "      <th>clnt_age</th>\n",
       "      <th>gendr</th>\n",
       "      <th>num_accts</th>\n",
       "      <th>bal</th>\n",
       "      <th>calls_6_mnth</th>\n",
       "      <th>logons_6_mnth</th>\n",
       "      <th>...</th>\n",
       "      <th>testing_engagement</th>\n",
       "      <th>balance_level</th>\n",
       "      <th>tenure</th>\n",
       "      <th>Variation</th>\n",
       "      <th>visitor_id</th>\n",
       "      <th>visit_id</th>\n",
       "      <th>process_step</th>\n",
       "      <th>time</th>\n",
       "      <th>date</th>\n",
       "      <th>repetition</th>\n",
       "    </tr>\n",
       "  </thead>\n",
       "  <tbody>\n",
       "    <tr>\n",
       "      <th>0</th>\n",
       "      <td>0</td>\n",
       "      <td>836976</td>\n",
       "      <td>6.0</td>\n",
       "      <td>73.0</td>\n",
       "      <td>60.5</td>\n",
       "      <td>U</td>\n",
       "      <td>2</td>\n",
       "      <td>45105.3</td>\n",
       "      <td>6.0</td>\n",
       "      <td>9.0</td>\n",
       "      <td>...</td>\n",
       "      <td>low</td>\n",
       "      <td>0-100k</td>\n",
       "      <td>5-10</td>\n",
       "      <td>Test</td>\n",
       "      <td>427070339_1413275162</td>\n",
       "      <td>228976764_46825473280_96584</td>\n",
       "      <td>confirm</td>\n",
       "      <td>11:51:13</td>\n",
       "      <td>2017-04-02</td>\n",
       "      <td>1</td>\n",
       "    </tr>\n",
       "    <tr>\n",
       "      <th>1</th>\n",
       "      <td>1</td>\n",
       "      <td>836976</td>\n",
       "      <td>6.0</td>\n",
       "      <td>73.0</td>\n",
       "      <td>60.5</td>\n",
       "      <td>U</td>\n",
       "      <td>2</td>\n",
       "      <td>45105.3</td>\n",
       "      <td>6.0</td>\n",
       "      <td>9.0</td>\n",
       "      <td>...</td>\n",
       "      <td>low</td>\n",
       "      <td>0-100k</td>\n",
       "      <td>5-10</td>\n",
       "      <td>Test</td>\n",
       "      <td>427070339_1413275162</td>\n",
       "      <td>228976764_46825473280_96584</td>\n",
       "      <td>confirm</td>\n",
       "      <td>11:47:50</td>\n",
       "      <td>2017-04-02</td>\n",
       "      <td>1</td>\n",
       "    </tr>\n",
       "    <tr>\n",
       "      <th>2</th>\n",
       "      <td>2</td>\n",
       "      <td>836976</td>\n",
       "      <td>6.0</td>\n",
       "      <td>73.0</td>\n",
       "      <td>60.5</td>\n",
       "      <td>U</td>\n",
       "      <td>2</td>\n",
       "      <td>45105.3</td>\n",
       "      <td>6.0</td>\n",
       "      <td>9.0</td>\n",
       "      <td>...</td>\n",
       "      <td>low</td>\n",
       "      <td>0-100k</td>\n",
       "      <td>5-10</td>\n",
       "      <td>Test</td>\n",
       "      <td>427070339_1413275162</td>\n",
       "      <td>228976764_46825473280_96584</td>\n",
       "      <td>confirm</td>\n",
       "      <td>11:46:45</td>\n",
       "      <td>2017-04-02</td>\n",
       "      <td>0</td>\n",
       "    </tr>\n",
       "    <tr>\n",
       "      <th>3</th>\n",
       "      <td>3</td>\n",
       "      <td>836976</td>\n",
       "      <td>6.0</td>\n",
       "      <td>73.0</td>\n",
       "      <td>60.5</td>\n",
       "      <td>U</td>\n",
       "      <td>2</td>\n",
       "      <td>45105.3</td>\n",
       "      <td>6.0</td>\n",
       "      <td>9.0</td>\n",
       "      <td>...</td>\n",
       "      <td>low</td>\n",
       "      <td>0-100k</td>\n",
       "      <td>5-10</td>\n",
       "      <td>Test</td>\n",
       "      <td>427070339_1413275162</td>\n",
       "      <td>228976764_46825473280_96584</td>\n",
       "      <td>step_3</td>\n",
       "      <td>11:23:08</td>\n",
       "      <td>2017-04-02</td>\n",
       "      <td>0</td>\n",
       "    </tr>\n",
       "    <tr>\n",
       "      <th>4</th>\n",
       "      <td>4</td>\n",
       "      <td>836976</td>\n",
       "      <td>6.0</td>\n",
       "      <td>73.0</td>\n",
       "      <td>60.5</td>\n",
       "      <td>U</td>\n",
       "      <td>2</td>\n",
       "      <td>45105.3</td>\n",
       "      <td>6.0</td>\n",
       "      <td>9.0</td>\n",
       "      <td>...</td>\n",
       "      <td>low</td>\n",
       "      <td>0-100k</td>\n",
       "      <td>5-10</td>\n",
       "      <td>Test</td>\n",
       "      <td>427070339_1413275162</td>\n",
       "      <td>228976764_46825473280_96584</td>\n",
       "      <td>step_2</td>\n",
       "      <td>11:22:24</td>\n",
       "      <td>2017-04-02</td>\n",
       "      <td>0</td>\n",
       "    </tr>\n",
       "  </tbody>\n",
       "</table>\n",
       "<p>5 rows × 21 columns</p>\n",
       "</div>"
      ],
      "text/plain": [
       "   Unnamed: 0  client_id  clnt_tenure_yr  clnt_tenure_mnth  clnt_age gendr  \\\n",
       "0           0     836976             6.0              73.0      60.5     U   \n",
       "1           1     836976             6.0              73.0      60.5     U   \n",
       "2           2     836976             6.0              73.0      60.5     U   \n",
       "3           3     836976             6.0              73.0      60.5     U   \n",
       "4           4     836976             6.0              73.0      60.5     U   \n",
       "\n",
       "   num_accts      bal  calls_6_mnth  logons_6_mnth  ... testing_engagement  \\\n",
       "0          2  45105.3           6.0            9.0  ...                low   \n",
       "1          2  45105.3           6.0            9.0  ...                low   \n",
       "2          2  45105.3           6.0            9.0  ...                low   \n",
       "3          2  45105.3           6.0            9.0  ...                low   \n",
       "4          2  45105.3           6.0            9.0  ...                low   \n",
       "\n",
       "  balance_level tenure Variation            visitor_id  \\\n",
       "0        0-100k   5-10      Test  427070339_1413275162   \n",
       "1        0-100k   5-10      Test  427070339_1413275162   \n",
       "2        0-100k   5-10      Test  427070339_1413275162   \n",
       "3        0-100k   5-10      Test  427070339_1413275162   \n",
       "4        0-100k   5-10      Test  427070339_1413275162   \n",
       "\n",
       "                      visit_id process_step      time        date repetition  \n",
       "0  228976764_46825473280_96584      confirm  11:51:13  2017-04-02          1  \n",
       "1  228976764_46825473280_96584      confirm  11:47:50  2017-04-02          1  \n",
       "2  228976764_46825473280_96584      confirm  11:46:45  2017-04-02          0  \n",
       "3  228976764_46825473280_96584       step_3  11:23:08  2017-04-02          0  \n",
       "4  228976764_46825473280_96584       step_2  11:22:24  2017-04-02          0  \n",
       "\n",
       "[5 rows x 21 columns]"
      ]
     },
     "execution_count": 121,
     "metadata": {},
     "output_type": "execute_result"
    }
   ],
   "source": [
    "df = pd.read_csv('df_clean_all.csv')\n",
    "df.head()"
   ]
  },
  {
   "cell_type": "code",
   "execution_count": 81,
   "id": "ac5b42c3-fdec-4754-a418-f50fb7bd2ace",
   "metadata": {},
   "outputs": [],
   "source": [
    "df_test = df[df['Variation'] == 'Test']\n",
    "df_control = df[df['Variation'] == 'Control']\n",
    "success_test = df_test[df_test['process_step'] == 'confirm'].shape[0]\n",
    "success_control = df_control[df_control['process_step'] == 'confirm'].shape[0]"
   ]
  },
  {
   "cell_type": "code",
   "execution_count": null,
   "id": "489fc075-ade6-483c-b731-1a2b27220343",
   "metadata": {},
   "outputs": [],
   "source": [
    "# H₀ (hipótesis nula): No hay diferencia significativa en las tasas de finalización entre los dos grupos.\n",
    "# H₁ (hipótesis alternativa): Hay una diferencia significativa en las tasas de finalización."
   ]
  },
  {
   "cell_type": "code",
   "execution_count": 83,
   "id": "24e4e09f-5d8e-493c-b24f-06563f8a26cd",
   "metadata": {},
   "outputs": [
    {
     "data": {
      "text/plain": [
       "(17.612218411058087,\n",
       " 1.9851018964812982e-69,\n",
       " 0.14489274856913173,\n",
       " 0.12335388163608149)"
      ]
     },
     "execution_count": 83,
     "metadata": {},
     "output_type": "execute_result"
    }
   ],
   "source": [
    "total_test = df_test.shape[0]\n",
    "total_control = df_control.shape[0]\n",
    "\n",
    "counts = [success_test, success_control]\n",
    "totals = [total_test, total_control]\n",
    "\n",
    "stat, p_value = proportions_ztest(counts, totals)\n",
    "\n",
    "success_rate_test = success_test / total_test\n",
    "success_rate_control = success_control / total_control\n",
    "\n",
    "(stat, p_value, success_rate_test, success_rate_control)"
   ]
  },
  {
   "cell_type": "code",
   "execution_count": null,
   "id": "e0957266-f9f7-49fc-a6f8-a80dcda71247",
   "metadata": {},
   "outputs": [],
   "source": [
    "# H₀ (hipótesis nula): No hay diferencia significativa del 5% en las tasas de finalización.\n",
    "# H₁ (hipótesis alternativa): Hay diferencia significativa del 5% en las tasas de finalización."
   ]
  },
  {
   "cell_type": "code",
   "execution_count": 85,
   "id": "9f96231a-074e-41c3-ae1e-56fd0885f0b8",
   "metadata": {},
   "outputs": [],
   "source": [
    "def verificar_mejora_umbral(success_rate_test, success_rate_control, umbral=0.05):\n",
    "    aumento = success_rate_test - success_rate_control\n",
    "    umbral_calculado = umbral * success_rate_control\n",
    "    cumple_umbrales = aumento >= umbral_calculado\n",
    "\n",
    "    return cumple_umbrales, aumento, umbral_calculado"
   ]
  },
  {
   "cell_type": "code",
   "execution_count": 87,
   "id": "fb75234d-1ad9-4c29-96db-cdda2de27ab2",
   "metadata": {},
   "outputs": [
    {
     "name": "stdout",
     "output_type": "stream",
     "text": [
      "El aumento en la tasa de finalización (0.0215) supera el umbral del 5% (0.0062). El nuevo diseño se justifica.\n"
     ]
    }
   ],
   "source": [
    "cumple, aumento, umbral = verificar_mejora_umbral(success_rate_test, success_rate_control)\n",
    "if cumple:\n",
    "    print(f\"El aumento en la tasa de finalización ({aumento:.4f}) supera el umbral del 5% ({umbral:.4f}). El nuevo diseño se justifica.\")\n",
    "else:\n",
    "    print(f\"El aumento en la tasa de finalización ({aumento:.4f}) no supera el umbral del 5% ({umbral:.4f}). El nuevo diseño no se justifica económicamente.\")"
   ]
  },
  {
   "cell_type": "code",
   "execution_count": null,
   "id": "61e9a36d-d954-4cdf-90c4-0d161c4d254a",
   "metadata": {},
   "outputs": [],
   "source": [
    "# Hipótesis nula (H₀): La edad promedio de los clientes que interactúan con el nuevo proceso \n",
    "# es igual a la edad promedio de los que interactúan con el proceso anterior.\n",
    "# Hipótesis alternativa (H₁): La edad promedio de los clientes que interactúan con el nuevo proceso \n",
    "# no es igual a la edad promedio de los que interactúan con el proceso anterior."
   ]
  },
  {
   "cell_type": "code",
   "execution_count": 97,
   "id": "2e75ddb3-bf88-4cec-8a2e-1cd545f786dd",
   "metadata": {},
   "outputs": [
    {
     "name": "stdout",
     "output_type": "stream",
     "text": [
      "Estadístico t: 7.833187064561318\n",
      "p-valor: 4.771912120331317e-15\n",
      "Rechazamos la hipótesis nula: las edades promedio son significativamente diferentes.\n"
     ]
    }
   ],
   "source": [
    "t_stat, p_value, resultado = comparar_edades(df_test, df_control, 'clnt_age')\n",
    "\n",
    "print(f\"Estadístico t: {t_stat}\")\n",
    "print(f\"p-valor: {p_value}\")\n",
    "print(resultado)"
   ]
  },
  {
   "cell_type": "code",
   "execution_count": null,
   "id": "02064a93-5c35-4330-8d72-03b6d9a99e25",
   "metadata": {},
   "outputs": [],
   "source": [
    "# Hipótesis nula (H₀): Los grupos estan balanceados\n",
    "# Hipótesis alternativa (H₁): Los grupos no estan balanceados"
   ]
  },
  {
   "cell_type": "code",
   "execution_count": 113,
   "id": "9605fda1-c725-4083-a879-a7c16b58b91b",
   "metadata": {},
   "outputs": [
    {
     "name": "stdout",
     "output_type": "stream",
     "text": [
      "Número de usuarios en el grupo Test: 176641\n",
      "Número de usuarios en el grupo Control: 140482\n",
      "Los grupos no están perfectamente balanceados. La diferencia es de 36159 usuarios.\n"
     ]
    },
    {
     "data": {
      "text/plain": [
       "(176641, 140482, 36159)"
      ]
     },
     "execution_count": 113,
     "metadata": {},
     "output_type": "execute_result"
    }
   ],
   "source": [
    "verificar_tamano_grupos(df)"
   ]
  },
  {
   "cell_type": "code",
   "execution_count": 150,
   "id": "1b231642-d630-4b49-a10b-1355801762fc",
   "metadata": {},
   "outputs": [
    {
     "name": "stdout",
     "output_type": "stream",
     "text": [
      "Estadístico t: -9.785061013095596\n",
      "p-valor: 1.3155058968347921e-22\n",
      "Hay diferencias significativas en la característica 'num_accts' entre los grupos.\n"
     ]
    },
    {
     "data": {
      "text/plain": [
       "(-9.785061013095596, 1.3155058968347921e-22)"
      ]
     },
     "execution_count": 150,
     "metadata": {},
     "output_type": "execute_result"
    }
   ],
   "source": [
    "verificar_aleatorizacion(df, 'num_accts')"
   ]
  },
  {
   "cell_type": "code",
   "execution_count": 152,
   "id": "e25d4fc8-ca04-4020-b9e8-9360b39c6080",
   "metadata": {},
   "outputs": [
    {
     "name": "stdout",
     "output_type": "stream",
     "text": [
      "Estadístico t: 7.833187064561318\n",
      "p-valor: 4.771912120331317e-15\n",
      "Hay diferencias significativas en la característica 'clnt_age' entre los grupos.\n"
     ]
    },
    {
     "data": {
      "text/plain": [
       "(7.833187064561318, 4.771912120331317e-15)"
      ]
     },
     "execution_count": 152,
     "metadata": {},
     "output_type": "execute_result"
    }
   ],
   "source": [
    "verificar_aleatorizacion(df, 'clnt_age')"
   ]
  },
  {
   "cell_type": "code",
   "execution_count": 154,
   "id": "71e2fc09-730d-465e-83b0-c6abbc7eef86",
   "metadata": {},
   "outputs": [
    {
     "name": "stdout",
     "output_type": "stream",
     "text": [
      "Estadístico t: 2.879944198071027\n",
      "p-valor: 0.003977722106826554\n",
      "Hay diferencias significativas en la característica 'bal' entre los grupos.\n"
     ]
    },
    {
     "data": {
      "text/plain": [
       "(2.879944198071027, 0.003977722106826554)"
      ]
     },
     "execution_count": 154,
     "metadata": {},
     "output_type": "execute_result"
    }
   ],
   "source": [
    "verificar_aleatorizacion(df, 'bal')"
   ]
  }
 ],
 "metadata": {
  "kernelspec": {
   "display_name": "Python 3 (ipykernel)",
   "language": "python",
   "name": "python3"
  },
  "language_info": {
   "codemirror_mode": {
    "name": "ipython",
    "version": 3
   },
   "file_extension": ".py",
   "mimetype": "text/x-python",
   "name": "python",
   "nbconvert_exporter": "python",
   "pygments_lexer": "ipython3",
   "version": "3.12.4"
  }
 },
 "nbformat": 4,
 "nbformat_minor": 5
}
