{
 "cells": [
  {
   "cell_type": "code",
   "execution_count": 22,
   "metadata": {},
   "outputs": [],
   "source": [
    "import pandas as pd\n",
    "import aux_functions as aux_f"
   ]
  },
  {
   "cell_type": "code",
   "execution_count": 23,
   "metadata": {},
   "outputs": [],
   "source": [
    "#Reading file\n",
    "df = pd.read_csv('./data/df_clean_all.csv')"
   ]
  },
  {
   "cell_type": "code",
   "execution_count": 24,
   "metadata": {},
   "outputs": [],
   "source": [
    "# Crear una nueva columna 'reached_confirm' que es True si el usuario pasó por \"confirm\", de lo contrario False\n",
    "df['reached_confirm'] = df['process_step'] == 'confirm'\n",
    "\n",
    "# Filtrar el DataFrame para los grupos \"test\" y \"control\"\n",
    "df_test = df[df['Variation'] == 'Test']\n",
    "df_control = df[df['Variation'] == 'Control']\n",
    "\n",
    "# Crear la tabla de contingencia para el grupo \"test\"\n",
    "contingency_test = pd.crosstab(df_test['visit_id'], df_test['reached_confirm'], \n",
    "                                rownames=['visit_id'], colnames=['reached_confirm'], \n",
    "                                margins=True, margins_name=\"Total\")\n",
    "\n",
    "# Crear la tabla de contingencia para el grupo \"control\"\n",
    "contingency_control = pd.crosstab(df_control['visit_id'], df_control['reached_confirm'], \n",
    "                                   rownames=['visit_id'], colnames=['reached_confirm'], \n",
    "                                   margins=True, margins_name=\"Total\")"
   ]
  },
  {
   "cell_type": "code",
   "execution_count": 25,
   "metadata": {},
   "outputs": [
    {
     "name": "stdout",
     "output_type": "stream",
     "text": [
      "Porcentaje de usuarios en 'Test' que llegaron al paso de confirmación: 14.49%\n",
      "Porcentaje de usuarios en 'Control' que llegaron al paso de confirmación: 12.34%\n"
     ]
    }
   ],
   "source": [
    "# Calcular el porcentaje de usuarios que llegaron al paso de confirmación para cada grupo\n",
    "percent_test = contingency_test[True].sum() / contingency_test['Total'].sum() * 100\n",
    "percent_control = contingency_control[True].sum() / contingency_control['Total'].sum() * 100\n",
    "\n",
    "print(f\"Porcentaje de usuarios en 'Test' que llegaron al paso de confirmación: {percent_test:.2f}%\")\n",
    "print(f\"Porcentaje de usuarios en 'Control' que llegaron al paso de confirmación: {percent_control:.2f}%\")"
   ]
  },
  {
   "cell_type": "code",
   "execution_count": 29,
   "metadata": {},
   "outputs": [
    {
     "name": "stdout",
     "output_type": "stream",
     "text": [
      "{'chi2_statistic': 310.19023735881404, 'p_value': 6.861753454997579e-66, 'degrees_of_freedom': 4, 'expected_frequencies': array([[121467.58324057,  19014.41675943, 140482.        ],\n",
      "       [152732.41675943,  23908.58324057, 176641.        ],\n",
      "       [274200.        ,  42923.        , 317123.        ]]), 'conclusion': 'Rechazamos la hipótesis nula. Las variables están asociadas.'}\n",
      "The use of either the variation test or the control affects the task completion rate\n"
     ]
    }
   ],
   "source": [
    "#Hipótesis realizada\n",
    "#H₀: The completion rate is independent of the design. (In other words, the design does not affect the task completion rate.)\n",
    "#H₁: The completion rate depends on the design. (In other words, the design affects the task completion rate.)\n",
    "\n",
    "#Crear la tabla de contingencia para las variables 'Variation' y 'reached_confirm'\n",
    "contingency_table_variation_confirm = pd.crosstab(df['Variation'], df['reached_confirm'], margins=True, margins_name=\"Total\")\n",
    "#Usar la funcion para comparar nuestra comparación de hipótesis.\n",
    "result = aux_f.chi_square_hypothesis(contingency_table_variation_confirm)\n",
    "# Imprimir los resultados\n",
    "print(result)\n",
    "print(\"The use of either the variation test or the control affects the task completion rate\")"
   ]
  }
 ],
 "metadata": {
  "kernelspec": {
   "display_name": "base",
   "language": "python",
   "name": "python3"
  },
  "language_info": {
   "codemirror_mode": {
    "name": "ipython",
    "version": 3
   },
   "file_extension": ".py",
   "mimetype": "text/x-python",
   "name": "python",
   "nbconvert_exporter": "python",
   "pygments_lexer": "ipython3",
   "version": "3.12.4"
  }
 },
 "nbformat": 4,
 "nbformat_minor": 2
}
